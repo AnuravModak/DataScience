{
 "cells": [
  {
   "cell_type": "code",
   "execution_count": 1,
   "id": "f075c356",
   "metadata": {},
   "outputs": [],
   "source": [
    "import numpy as np\n",
    "import pandas as pd"
   ]
  },
  {
   "cell_type": "code",
   "execution_count": 23,
   "id": "4d629bff",
   "metadata": {},
   "outputs": [],
   "source": [
    "def single_element_indiscernibility(matrix,index):\n",
    "    df=pd.DataFrame(matrix)\n",
    "    # this will return the list of columns     \n",
    "    y=list(df.columns)\n",
    "    \n",
    "    grouped_df=df.groupby(y[index])\n",
    "    \n",
    "    ind_R=list(list())\n",
    "    for key, item in grouped_df:\n",
    "    #print(grouped_df.get_group(key), \"\\n\",grouped_df.get_group(key).index ,\"\\n\\n\")\n",
    "        lis=[]\n",
    "        for i in grouped_df.get_group(key).index:\n",
    "            lis.append(i)\n",
    "        ind_R.append(list(lis))\n",
    "    return ind_R\n",
    "\n",
    "def indiscernibility(matrix,y):\n",
    "    if len(y)==0:\n",
    "        return 0\n",
    "    df=pd.DataFrame(matrix)\n",
    "    # this will return the list of columns     \n",
    "    grouped_df=df.groupby(y)\n",
    "    ind_R=list(list())\n",
    "    for key, item in grouped_df:\n",
    "    #print(grouped_df.get_group(key), \"\\n\",grouped_df.get_group(key).index ,\"\\n\\n\")\n",
    "        lis=[]\n",
    "        for i in grouped_df.get_group(key).index:\n",
    "            lis.append(i)\n",
    "        ind_R.append(list(lis))\n",
    "    return ind_R\n",
    "\n",
    "    "
   ]
  },
  {
   "cell_type": "code",
   "execution_count": 3,
   "id": "b48d0ad5",
   "metadata": {},
   "outputs": [],
   "source": [
    "c_attr=np.array([[1,0,2,2,1],[0,1,1,1,0],[2,0,0,1,2],[1,1,0,2,1],[1,0,2,0,1],[2,2,0,1,2],[2,1,1,1,2],[0,1,1,0,0]])\n",
    "dec_attr=np.array([0,2,1,2,1,1,2,1])\n",
    "terms=np.array([\"a\",\"b\",\"c\",\"d\"])\n"
   ]
  },
  {
   "cell_type": "code",
   "execution_count": 4,
   "id": "781c5d4e",
   "metadata": {},
   "outputs": [
    {
     "name": "stdout",
     "output_type": "stream",
     "text": [
      "[[1 0 2 2 1]\n",
      " [0 1 1 1 0]\n",
      " [2 0 0 1 2]\n",
      " [1 1 0 2 1]\n",
      " [1 0 2 0 1]\n",
      " [2 2 0 1 2]\n",
      " [2 1 1 1 2]\n",
      " [0 1 1 0 0]]\n",
      "shape of old training attribute (8, 5)\n",
      "\n",
      "Unique columns: [0, 1, 2, 3]\n",
      "\n",
      "No of unique columns: 4\n",
      "[[1 0 2 1 1 2 2 0]\n",
      " [0 1 0 1 0 2 1 1]\n",
      " [2 1 0 0 2 0 1 1]\n",
      " [2 1 1 2 0 1 1 0]]\n",
      "\n",
      " unique_col_table shape (4, 8)\n",
      "\n",
      "new train attributes after preserving only one repetitve element:\n",
      " [[1 0 2 2]\n",
      " [0 1 1 1]\n",
      " [2 0 0 1]\n",
      " [1 1 0 2]\n",
      " [1 0 2 0]\n",
      " [2 2 0 1]\n",
      " [2 1 1 1]\n",
      " [0 1 1 0]]\n",
      "\n",
      "shape of new train attributes: (8, 4)\n",
      "number of repeated columns are:  0\n"
     ]
    }
   ],
   "source": [
    "# NOW REMOVING IDENTICAL COLUMNS FROM OUR MATRIX INPLACE.......\n",
    "print((c_attr))\n",
    "print(\"shape of old training attribute\",c_attr.shape)\n",
    "grp=np.column_stack(c_attr)\n",
    "temp=pd.DataFrame(grp)\n",
    "# print(temp.shape)\n",
    "\n",
    "temp_grp=indiscernibility(temp,list(temp.columns))\n",
    "# print(temp_grp)\n",
    "\n",
    "unique_columns=[]\n",
    "for i in range(len(temp_grp)):\n",
    "    unique_columns.append(temp_grp[i][0])\n",
    "    \n",
    "unique_columns.sort()\n",
    "print()\n",
    "print(\"Unique columns:\",unique_columns)\n",
    "print(\"\\nNo of unique columns:\",len(unique_columns))\n",
    "\n",
    "unique_col_table=list(list())\n",
    "for i in unique_columns:\n",
    "    unique_col_table.append(list(grp[i]))\n",
    "unique_col_table=np.array(unique_col_table)\n",
    "# print(\"\\nunique_col_table:\")\n",
    "print(unique_col_table)\n",
    "print(\"\\n unique_col_table shape\",unique_col_table.shape)\n",
    "\n",
    "new_train_attributes=np.column_stack(unique_col_table)\n",
    "\n",
    "print(\"\\nnew train attributes after preserving only one repetitve element:\\n\",new_train_attributes)\n",
    "print(\"\\nshape of new train attributes:\",new_train_attributes.shape)\n",
    "c_attr=new_train_attributes.copy()\n",
    "\n",
    "repetitive_columns=list(set(list(range(len(c_attr[0]))))-set(unique_columns))\n",
    "print(\"number of repeated columns are: \", len(repetitive_columns))"
   ]
  },
  {
   "cell_type": "code",
   "execution_count": 5,
   "id": "e766f747",
   "metadata": {},
   "outputs": [
    {
     "data": {
      "text/plain": [
       "array([[1., 0., 2., 2., 0.],\n",
       "       [0., 1., 1., 1., 2.],\n",
       "       [2., 0., 0., 1., 1.],\n",
       "       [1., 1., 0., 2., 2.],\n",
       "       [1., 0., 2., 0., 1.],\n",
       "       [2., 2., 0., 1., 1.],\n",
       "       [2., 1., 1., 1., 2.],\n",
       "       [0., 1., 1., 0., 1.]])"
      ]
     },
     "execution_count": 5,
     "metadata": {},
     "output_type": "execute_result"
    }
   ],
   "source": [
    "combined_attr=c_attr.copy()\n",
    "new_arr=np.array([])\n",
    "for i in range(len(combined_attr)):\n",
    "    new_arr=np.append(new_arr,np.append(combined_attr[i],dec_attr[i]))\n",
    "# now reshape it...\n",
    "new_arr=new_arr.reshape(len(dec_attr),len(c_attr[0])+1)\n",
    "combined_attr=new_arr.copy()\n",
    "combined_attr\n",
    "# df1=pd.DataFrame(combined_attr)\n",
    "# print(list(df1.columns))"
   ]
  },
  {
   "cell_type": "code",
   "execution_count": 6,
   "id": "9016fa81",
   "metadata": {},
   "outputs": [
    {
     "name": "stdout",
     "output_type": "stream",
     "text": [
      "a : [[1, 7], [0, 3, 4], [2, 5, 6]]\n",
      "b : [[0, 2, 4], [1, 3, 6, 7], [5]]\n",
      "c : [[2, 3, 5], [1, 6, 7], [0, 4]]\n",
      "d : [[4, 7], [1, 2, 5, 6], [0, 3]]\n"
     ]
    }
   ],
   "source": [
    "for i in range(len(terms)):\n",
    "    print(terms[i],\":\",single_element_indiscernibility(c_attr,i))\n",
    "    "
   ]
  },
  {
   "cell_type": "code",
   "execution_count": 7,
   "id": "5268edb4",
   "metadata": {},
   "outputs": [
    {
     "name": "stdout",
     "output_type": "stream",
     "text": [
      "[0] : [[1, 7], [0, 3, 4], [2, 5, 6]]\n",
      "[0, 1] : [[1, 7], [0, 4], [3], [2], [6], [5]]\n",
      "[0, 1, 2] : [[1, 7], [0, 4], [3], [2], [6], [5]]\n",
      "[0, 1, 2, 3] : [[7], [1], [4], [0], [3], [2], [6], [5]]\n",
      "[1] : [[0, 2, 4], [1, 3, 6, 7], [5]]\n",
      "[1, 2] : [[2], [0, 4], [3], [1, 6, 7], [5]]\n",
      "[1, 2, 3] : [[2], [4], [0], [3], [7], [1, 6], [5]]\n",
      "[2] : [[2, 3, 5], [1, 6, 7], [0, 4]]\n",
      "[2, 3] : [[2, 5], [3], [7], [1, 6], [4], [0]]\n",
      "[3] : [[4, 7], [1, 2, 5, 6], [0, 3]]\n"
     ]
    }
   ],
   "source": [
    "# THIS CELL IS ONLY FOR EXPERIMENT PURPOSE...\n",
    "arr=[0,1,2,3]\n",
    "res=[arr[i:j] for i in range(len(arr))\n",
    "    for j in range(i+1,len(arr)+1)]\n",
    "\n",
    "for i in res:\n",
    "    print(i,\":\",indiscernibility(c_attr,i))"
   ]
  },
  {
   "cell_type": "code",
   "execution_count": 8,
   "id": "53d5239c",
   "metadata": {},
   "outputs": [
    {
     "data": {
      "text/plain": [
       "[[0], [2, 4, 5, 7], [1, 3, 6]]"
      ]
     },
     "execution_count": 8,
     "metadata": {},
     "output_type": "execute_result"
    }
   ],
   "source": [
    "# find R_e as given in the doc......\n",
    "R_e=single_element_indiscernibility(combined_attr,len(combined_attr[0])-1)\n",
    "R_e\n",
    "# Dependency if R_e is always equal to 1."
   ]
  },
  {
   "cell_type": "code",
   "execution_count": 9,
   "id": "94de50d6",
   "metadata": {},
   "outputs": [],
   "source": [
    "def calculate_LA(R_e,ind):\n",
    "    nR_e=list(set())\n",
    "    nind=list(set())\n",
    "    ans=[]\n",
    "    for i in R_e:\n",
    "        nR_e.append(set(i))\n",
    "    for i in ind:\n",
    "        nind.append(set(i))\n",
    "    \n",
    "    for i in range(len(nind)):\n",
    "        for j in range(len(nR_e)):\n",
    "            if nind[i]&nR_e[j]==nind[i]:\n",
    "                for val in nind[i]:\n",
    "                    ans.append(val)\n",
    "    ans=list(set(ans))\n",
    "    return ans\n",
    "\n",
    "def calculate_dependency(R_e,ind,universe=list(range(len(dec_attr)))):\n",
    "     # here universe is set of all objects or terms.\n",
    "    ans=calculate_LA(R_e,ind)\n",
    "    return len(ans)/len( universe)\n",
    "                "
   ]
  },
  {
   "cell_type": "code",
   "execution_count": 10,
   "id": "e8caefa2",
   "metadata": {},
   "outputs": [
    {
     "name": "stdout",
     "output_type": "stream",
     "text": [
      "calculating dependency for all subarrays in array.......\n",
      "\n",
      "0.0\n",
      "0.5\n",
      "0.5\n",
      "1.0\n",
      "0.125\n",
      "0.375\n",
      "1.0\n",
      "0.0\n",
      "1.0\n",
      "0.25\n",
      "\n",
      "calculating dependency for all single elements.......\n",
      "\n",
      "0.0\n",
      "0.125\n",
      "0.0\n",
      "0.25\n"
     ]
    }
   ],
   "source": [
    "# THIS CELL IS ONLY FOR EXPERIMENT PURPOSE...CALCULATING DEPENDENCY ----->\n",
    "arr=[0,1,2,3]\n",
    "res=[arr[i:j] for i in range(len(arr))\n",
    "    for j in range(i+1,len(arr)+1)]\n",
    "\n",
    "# calculating dependency for all subarrays in array.......\n",
    "print(\"calculating dependency for all subarrays in array.......\")\n",
    "print()\n",
    "for i in res:\n",
    "    ind=indiscernibility(c_attr,i)\n",
    "    print(calculate_dependency(R_e,ind))\n",
    "    \n",
    "# calculating dependency for all single elements.......\n",
    "print()\n",
    "print(\"calculating dependency for all single elements.......\")\n",
    "print()\n",
    "\n",
    "for i in range(len(terms)):\n",
    "    ind=single_element_indiscernibility(c_attr,i)\n",
    "    print(calculate_dependency(R_e,ind))"
   ]
  },
  {
   "cell_type": "code",
   "execution_count": 11,
   "id": "f4e32f65",
   "metadata": {},
   "outputs": [
    {
     "data": {
      "text/plain": [
       "array([[1, 0, 2, 2],\n",
       "       [0, 1, 1, 1],\n",
       "       [2, 0, 0, 1],\n",
       "       [1, 1, 0, 2],\n",
       "       [1, 0, 2, 0],\n",
       "       [2, 2, 0, 1],\n",
       "       [2, 1, 1, 1],\n",
       "       [0, 1, 1, 0]])"
      ]
     },
     "execution_count": 11,
     "metadata": {},
     "output_type": "execute_result"
    }
   ],
   "source": [
    "c_attr"
   ]
  },
  {
   "cell_type": "code",
   "execution_count": 26,
   "id": "da2af441",
   "metadata": {},
   "outputs": [
    {
     "name": "stdout",
     "output_type": "stream",
     "text": [
      "R: {3}\n"
     ]
    }
   ],
   "source": [
    "# QUICK REDUCT ALGO\n",
    "R=list()\n",
    "iter_attr=[False]*len(c_attr[0])\n",
    "# print(iter_attr)\n",
    "\n",
    "# Initialising max dependency\n",
    "max_dep=calculate_dependency(R_e,R_e)\n",
    "\n",
    "\n",
    "# Initialising an empty set to collect reduced attribites or to store reducts\n",
    "R=set()\n",
    "set_c_attr=set(list(range(len(c_attr[0]))))\n",
    "# print(set_c_attr)\n",
    "\n",
    "# calculating dependency for all single values...\n",
    "max_i=-1\n",
    "temp_dep=-1\n",
    "dep_arr=[]\n",
    "for i in set_c_attr:\n",
    "    ind=indiscernibility(c_attr,[i])\n",
    "    m=calculate_dependency(R_e,ind)\n",
    "    dep_arr.append(m)\n",
    "# print(dep_arr)\n",
    "\n",
    "# get all the elements or attributes where the element's dependency is equal to the max dependency value \n",
    "candidates=[]\n",
    "max_dep=max(dep_arr)\n",
    "for i in range(len(dep_arr)):\n",
    "    if dep_arr[i]==max_dep:\n",
    "        candidates.append(i)\n",
    "\n",
    "# print(\"candidate elements are:\",candidates)\n",
    "# adding all the max elements into R and mark that element as taken or True in iter_attr \n",
    "for i in candidates:\n",
    "    R.add(i)\n",
    "    iter_attr[i]=True\n",
    "print(\"R:\",R)\n",
    "# print(iter_attr)\n",
    "\n",
    "\n",
    "    \n",
    "\n"
   ]
  },
  {
   "cell_type": "code",
   "execution_count": null,
   "id": "cd062228",
   "metadata": {},
   "outputs": [],
   "source": []
  },
  {
   "cell_type": "code",
   "execution_count": null,
   "id": "6fde3425",
   "metadata": {},
   "outputs": [],
   "source": []
  },
  {
   "cell_type": "code",
   "execution_count": null,
   "id": "c28fb2f1",
   "metadata": {},
   "outputs": [],
   "source": []
  },
  {
   "cell_type": "code",
   "execution_count": null,
   "id": "47aa2bcd",
   "metadata": {},
   "outputs": [],
   "source": []
  },
  {
   "cell_type": "code",
   "execution_count": null,
   "id": "d4145173",
   "metadata": {},
   "outputs": [],
   "source": []
  },
  {
   "cell_type": "code",
   "execution_count": null,
   "id": "6ab9d81e",
   "metadata": {},
   "outputs": [],
   "source": []
  },
  {
   "cell_type": "code",
   "execution_count": null,
   "id": "9d97e102",
   "metadata": {},
   "outputs": [],
   "source": []
  },
  {
   "cell_type": "code",
   "execution_count": null,
   "id": "034ea2b8",
   "metadata": {},
   "outputs": [],
   "source": []
  },
  {
   "cell_type": "code",
   "execution_count": null,
   "id": "0f889e58",
   "metadata": {},
   "outputs": [],
   "source": []
  },
  {
   "cell_type": "code",
   "execution_count": null,
   "id": "90239e36",
   "metadata": {},
   "outputs": [],
   "source": []
  }
 ],
 "metadata": {
  "kernelspec": {
   "display_name": "Python 3 (ipykernel)",
   "language": "python",
   "name": "python3"
  },
  "language_info": {
   "codemirror_mode": {
    "name": "ipython",
    "version": 3
   },
   "file_extension": ".py",
   "mimetype": "text/x-python",
   "name": "python",
   "nbconvert_exporter": "python",
   "pygments_lexer": "ipython3",
   "version": "3.10.0"
  }
 },
 "nbformat": 4,
 "nbformat_minor": 5
}
