{
 "cells": [
  {
   "cell_type": "code",
   "execution_count": 1,
   "id": "b50fb728",
   "metadata": {},
   "outputs": [],
   "source": [
    "import numpy as np\n",
    "import pandas as pd"
   ]
  },
  {
   "cell_type": "code",
   "execution_count": 2,
   "id": "4eb45357",
   "metadata": {},
   "outputs": [
    {
     "name": "stdout",
     "output_type": "stream",
     "text": [
      "3\n",
      "5\n",
      "6\n",
      "80\n"
     ]
    }
   ],
   "source": [
    "# myarr=np.array([3,5,6,80],np.float64) is also valid..\n",
    "# myarr=np.array([3,5,6,80],np.object) is also valid for string and objects\n",
    "# like string and dicts and many more..........\n",
    "myarr=np.array([3,5,6,80],np.int64)\n",
    "for i in myarr:\n",
    "    print(i)"
   ]
  },
  {
   "cell_type": "code",
   "execution_count": 3,
   "id": "dd43163c",
   "metadata": {},
   "outputs": [
    {
     "name": "stdout",
     "output_type": "stream",
     "text": [
      "3\n",
      "5\n",
      "6\n",
      "80\n"
     ]
    }
   ],
   "source": [
    "for i in range(len(myarr)):\n",
    "    print(myarr[i])\n",
    "    "
   ]
  },
  {
   "cell_type": "code",
   "execution_count": 4,
   "id": "ad41503d",
   "metadata": {},
   "outputs": [
    {
     "name": "stdout",
     "output_type": "stream",
     "text": [
      "1\n",
      "2\n",
      "6\n",
      "5\n",
      "\n",
      "563\n",
      "2\n",
      "6\n",
      "8\n",
      "\n"
     ]
    }
   ],
   "source": [
    "twoD=np.array([[1,2,6,5],[563,2,6,8]],np.int64)\n",
    "for i in range(len(twoD)):\n",
    "    for j in range(len(twoD[0])):\n",
    "        print(twoD[i,j])\n",
    "    print()"
   ]
  },
  {
   "cell_type": "markdown",
   "id": "8e196761",
   "metadata": {},
   "source": [
    "## Array Creation: Conversion from other Python Structures"
   ]
  },
  {
   "cell_type": "code",
   "execution_count": 5,
   "id": "6e28c42e",
   "metadata": {},
   "outputs": [],
   "source": [
    "listarray=np.array([[1,2,3,4],[1,21,34,49],[71,22,36,47]])"
   ]
  },
  {
   "cell_type": "code",
   "execution_count": 6,
   "id": "814094ec",
   "metadata": {},
   "outputs": [
    {
     "data": {
      "text/plain": [
       "array([[ 1,  2,  3,  4],\n",
       "       [ 1, 21, 34, 49],\n",
       "       [71, 22, 36, 47]])"
      ]
     },
     "execution_count": 6,
     "metadata": {},
     "output_type": "execute_result"
    }
   ],
   "source": [
    "listarray"
   ]
  },
  {
   "cell_type": "code",
   "execution_count": 7,
   "id": "b2899817",
   "metadata": {},
   "outputs": [
    {
     "data": {
      "text/plain": [
       "dtype('int32')"
      ]
     },
     "execution_count": 7,
     "metadata": {},
     "output_type": "execute_result"
    }
   ],
   "source": [
    "# by default it will assingn 4 bytes that is 32 bits...\n",
    "listarray.dtype"
   ]
  },
  {
   "cell_type": "code",
   "execution_count": 8,
   "id": "49da3b63",
   "metadata": {},
   "outputs": [
    {
     "data": {
      "text/plain": [
       "12"
      ]
     },
     "execution_count": 8,
     "metadata": {},
     "output_type": "execute_result"
    }
   ],
   "source": [
    "listarray.size"
   ]
  },
  {
   "cell_type": "code",
   "execution_count": 9,
   "id": "9beeff58",
   "metadata": {},
   "outputs": [
    {
     "data": {
      "text/plain": [
       "(3, 4)"
      ]
     },
     "execution_count": 9,
     "metadata": {},
     "output_type": "execute_result"
    }
   ],
   "source": [
    "listarray.shape"
   ]
  },
  {
   "cell_type": "code",
   "execution_count": 10,
   "id": "66328853",
   "metadata": {},
   "outputs": [
    {
     "data": {
      "text/plain": [
       "array({2, 3, 8, 9, 14}, dtype=object)"
      ]
     },
     "execution_count": 10,
     "metadata": {},
     "output_type": "execute_result"
    }
   ],
   "source": [
    "np.array({14,2,8,9,3})# not efficient for integers......"
   ]
  },
  {
   "cell_type": "markdown",
   "id": "92a0a944",
   "metadata": {},
   "source": [
    "## Intrinsic numpy array creation objects....."
   ]
  },
  {
   "cell_type": "code",
   "execution_count": 11,
   "id": "649733d5",
   "metadata": {},
   "outputs": [
    {
     "data": {
      "text/plain": [
       "array([[0., 0., 0., 0., 0.],\n",
       "       [0., 0., 0., 0., 0.]])"
      ]
     },
     "execution_count": 11,
     "metadata": {},
     "output_type": "execute_result"
    }
   ],
   "source": [
    "# zeros=np.zeros(5)\n",
    "zeros=np.zeros((2,5))\n",
    "zeros\n",
    "# by default its type will be float......"
   ]
  },
  {
   "cell_type": "code",
   "execution_count": 12,
   "id": "49c1bfa4",
   "metadata": {},
   "outputs": [
    {
     "data": {
      "text/plain": [
       "array([ 0,  1,  2,  3,  4,  5,  6,  7,  8,  9, 10, 11, 12, 13, 14])"
      ]
     },
     "execution_count": 12,
     "metadata": {},
     "output_type": "execute_result"
    }
   ],
   "source": [
    "rng=np.arange(15)\n",
    "rng"
   ]
  },
  {
   "cell_type": "code",
   "execution_count": 13,
   "id": "b969ffb7",
   "metadata": {},
   "outputs": [
    {
     "data": {
      "text/plain": [
       "array([ 0.,  5., 10., 15., 20., 25., 30., 35., 40., 45., 50.])"
      ]
     },
     "execution_count": 13,
     "metadata": {},
     "output_type": "execute_result"
    }
   ],
   "source": [
    "lspace=np.linspace(0,50,11)\n",
    "lspace"
   ]
  },
  {
   "cell_type": "code",
   "execution_count": 14,
   "id": "a3203016",
   "metadata": {},
   "outputs": [
    {
     "data": {
      "text/plain": [
       "array([[1., 0., 0., ..., 0., 0., 0.],\n",
       "       [0., 1., 0., ..., 0., 0., 0.],\n",
       "       [0., 0., 1., ..., 0., 0., 0.],\n",
       "       ...,\n",
       "       [0., 0., 0., ..., 1., 0., 0.],\n",
       "       [0., 0., 0., ..., 0., 1., 0.],\n",
       "       [0., 0., 0., ..., 0., 0., 1.]])"
      ]
     },
     "execution_count": 14,
     "metadata": {},
     "output_type": "execute_result"
    }
   ],
   "source": [
    "ide=np.identity(45)\n",
    "ide"
   ]
  },
  {
   "cell_type": "code",
   "execution_count": 15,
   "id": "99d52464",
   "metadata": {},
   "outputs": [
    {
     "data": {
      "text/plain": [
       "array([ 0,  1,  2,  3,  4,  5,  6,  7,  8,  9, 10, 11, 12, 13, 14, 15, 16,\n",
       "       17, 18, 19, 20, 21, 22, 23, 24, 25, 26, 27, 28, 29, 30, 31, 32, 33,\n",
       "       34, 35, 36, 37, 38, 39, 40, 41, 42, 43, 44, 45, 46, 47, 48, 49, 50,\n",
       "       51, 52, 53, 54, 55, 56, 57, 58, 59, 60, 61, 62, 63, 64, 65, 66, 67,\n",
       "       68, 69, 70, 71, 72, 73, 74, 75, 76, 77, 78, 79, 80, 81, 82, 83, 84,\n",
       "       85, 86, 87, 88, 89, 90, 91, 92, 93, 94, 95, 96, 97, 98])"
      ]
     },
     "execution_count": 15,
     "metadata": {},
     "output_type": "execute_result"
    }
   ],
   "source": [
    "arr=np.arange(99)\n",
    "arr"
   ]
  },
  {
   "cell_type": "code",
   "execution_count": 16,
   "id": "29331a6d",
   "metadata": {},
   "outputs": [
    {
     "data": {
      "text/plain": [
       "array([[ 0,  1,  2,  3,  4,  5,  6,  7,  8,  9, 10, 11, 12, 13, 14, 15,\n",
       "        16, 17, 18, 19, 20, 21, 22, 23, 24, 25, 26, 27, 28, 29, 30, 31,\n",
       "        32],\n",
       "       [33, 34, 35, 36, 37, 38, 39, 40, 41, 42, 43, 44, 45, 46, 47, 48,\n",
       "        49, 50, 51, 52, 53, 54, 55, 56, 57, 58, 59, 60, 61, 62, 63, 64,\n",
       "        65],\n",
       "       [66, 67, 68, 69, 70, 71, 72, 73, 74, 75, 76, 77, 78, 79, 80, 81,\n",
       "        82, 83, 84, 85, 86, 87, 88, 89, 90, 91, 92, 93, 94, 95, 96, 97,\n",
       "        98]])"
      ]
     },
     "execution_count": 16,
     "metadata": {},
     "output_type": "execute_result"
    }
   ],
   "source": [
    "# arr.reshape(3,11,3) # 3-d matrix\n",
    "arr.reshape(3,33) # 2-d matrix"
   ]
  },
  {
   "cell_type": "code",
   "execution_count": 17,
   "id": "6426ae7d",
   "metadata": {},
   "outputs": [],
   "source": [
    "# Now learn about axis in numpy\n",
    "# In 1-D array there is only one axis that is axis=0\n",
    "# In from 2-D array to n-D array you have 0 to n-1 axes that is n-1 number of\n",
    "# matrices.....\n",
    "# Now in 2-D array"
   ]
  },
  {
   "cell_type": "code",
   "execution_count": 18,
   "id": "f346d2c5",
   "metadata": {},
   "outputs": [],
   "source": [
    "arr=np.array([[1, 2, 4, 6],\n",
    "              [9,6,3, 77],\n",
    "              [12,36,580,96]])"
   ]
  },
  {
   "cell_type": "code",
   "execution_count": 19,
   "id": "eb861f90",
   "metadata": {},
   "outputs": [
    {
     "data": {
      "text/plain": [
       "array([ 13,  95, 724])"
      ]
     },
     "execution_count": 19,
     "metadata": {},
     "output_type": "execute_result"
    }
   ],
   "source": [
    "arr.sum(axis=1)"
   ]
  },
  {
   "cell_type": "code",
   "execution_count": 20,
   "id": "577011a3",
   "metadata": {
    "scrolled": true
   },
   "outputs": [],
   "source": [
    "# ata=np.empty(1)\n",
    "# ata=np.append([4],axis=0)\n",
    "# # ata=np.append(4)\n",
    "# # ata=np.append(4)\n",
    "# # ata=np.append(4)\n",
    "# ata"
   ]
  },
  {
   "cell_type": "code",
   "execution_count": 21,
   "id": "7b694a60",
   "metadata": {},
   "outputs": [],
   "source": [
    "table=np.array([[1,5,8],[2,7,10],[3,5,11],[1,7,11],[1,5,8],[4,6,9],[4,7,10],[2,7,10]],np.int16)\n",
    "# table=np.array([[1,5,8,10],[1,5,8,10],[1,5,8,10]],np.int16)\n",
    "y=np.array([[\"lead\"],[\"claim\"],[\"rebuttal\"],[\"conclusion\"],[\"lead\"],[\"counter\"],[\"counter\"],[\"lead\"]])"
   ]
  },
  {
   "cell_type": "code",
   "execution_count": null,
   "id": "e1cce41f",
   "metadata": {},
   "outputs": [],
   "source": []
  },
  {
   "cell_type": "code",
   "execution_count": 22,
   "id": "9fe13b3d",
   "metadata": {},
   "outputs": [
    {
     "data": {
      "text/plain": [
       "[0, 1, 2]"
      ]
     },
     "execution_count": 22,
     "metadata": {},
     "output_type": "execute_result"
    }
   ],
   "source": [
    "df=pd.DataFrame(table)\n",
    "# grouped_df=df.groupby([0,1,2])\n",
    "\n",
    "y=list(df.columns)\n",
    "y\n"
   ]
  },
  {
   "cell_type": "code",
   "execution_count": 23,
   "id": "2057ecb7",
   "metadata": {},
   "outputs": [
    {
     "data": {
      "text/plain": [
       "[[0, 4], [3], [1, 7], [2], [5], [6]]"
      ]
     },
     "execution_count": 23,
     "metadata": {},
     "output_type": "execute_result"
    }
   ],
   "source": [
    "def indescernibility(matrix):\n",
    "    df=pd.DataFrame(table)\n",
    "    # this will return the list of columns     \n",
    "    y=list(df.columns)\n",
    "    grouped_df=df.groupby(y)\n",
    "    \n",
    "    \n",
    "    ind_R=list(list())\n",
    "    for key, item in grouped_df:\n",
    "#         print(grouped_df.get_group(key), \"\\n\",grouped_df.get_group(key).index ,\"\\n\\n\")\n",
    "        lis=[]\n",
    "        for i in grouped_df.get_group(key).index:\n",
    "            lis.append(i)\n",
    "        ind_R.append(list(lis))\n",
    "    return ind_R\n",
    "indescernibility(table)"
   ]
  },
  {
   "cell_type": "code",
   "execution_count": 24,
   "id": "4da83f97",
   "metadata": {},
   "outputs": [],
   "source": [
    "def dispensable_and_indispensable():\n",
    "    pass\n",
    "    \n",
    "    "
   ]
  },
  {
   "cell_type": "code",
   "execution_count": 25,
   "id": "d5667cd9",
   "metadata": {},
   "outputs": [],
   "source": [
    "import numpy as np\n",
    "\n",
    "class RoughSetsReducer:\n",
    "\n",
    "    def __size(self, x):\n",
    "        return (1, x.shape[0]) if x.ndim == 1 else x.shape\n",
    "\n",
    "    '''\n",
    "    Calculates indiscernibility relation\n",
    "    '''\n",
    "    def indisc(self, a, x):\n",
    "\n",
    "        def codea(a, x, b):\n",
    "            yy = 0\n",
    "            for i in range(0, a):\n",
    "                yy += x[i] * b**(a-(i+1))\n",
    "            return yy\n",
    "\n",
    "        p, q = self.__size(x)\n",
    "        ap, aq = self.__size(a)\n",
    "        z = [e for e in range(1, q+1)]\n",
    "        tt = np.setdiff1d(z, a)\n",
    "        tt_ind = np.setdiff1d(z, tt)-1\n",
    "        if x.ndim == 1:\n",
    "            x = x[tt_ind]\n",
    "        else:\n",
    "            x = x[:, tt_ind]\n",
    "        y = x\n",
    "        v = [codea(aq, y, 10) for i in range(0, p)] if y.ndim == 1 \\\n",
    "            else [codea(aq, y[i, :], 10) for i in range(0, p)]\n",
    "        y = np.transpose(v)\n",
    "        if y.shape[0] == 1 and len(y.shape) == 1:\n",
    "            I, yy = [1], [y]\n",
    "            y = np.hstack((y, I))\n",
    "            b, k, l = [y], [1], [1]\n",
    "        else:\n",
    "            ax = 1 if y.ndim > 1 else 0\n",
    "            yy = np.sort(y, axis=ax)\n",
    "            I = y.argsort(axis=ax)\n",
    "            y = np.hstack((yy, I))\n",
    "            b, k, l = np.unique(yy, return_index=True, return_inverse=True)\n",
    "        y = np.hstack((l, I))\n",
    "        m = np.max(l)\n",
    "        aa = np.zeros((m+1, p), dtype=int)\n",
    "        for ii in range(0, m+1):\n",
    "            for j in range(0, p):\n",
    "                if l[j] == ii:\n",
    "                    aa[ii, j] = I[j]+1\n",
    "        return aa\n",
    "\n",
    "    '''\n",
    "    Calculates lower approximation set of y\n",
    "    '''\n",
    "    def rslower(self, y, a, T):\n",
    "        z = self.indisc(a, T)\n",
    "        w = []\n",
    "        p, q = self.__size(z)\n",
    "        for u in range(0, p):\n",
    "            zz = np.setdiff1d(z[u, :], 0)\n",
    "            if np.in1d(zz, y).all():\n",
    "                w = np.hstack((w, zz))\n",
    "        return w.astype(dtype=int)\n",
    "\n",
    "    '''\n",
    "    Calculates upper approximation set of y\n",
    "    '''\n",
    "    def rsupper(self, y, a, T):\n",
    "        z = self.indisc(a, T)\n",
    "        w = []\n",
    "        p, q = self.__size(z)\n",
    "        for u in range(0, p):\n",
    "            zz = np.setdiff1d(z[u, :], 0)\n",
    "            zzz = np.intersect1d(zz, y)\n",
    "            if len(zzz) > 0:\n",
    "                w = np.hstack((w, zz))\n",
    "        return w.astype(dtype=int)\n",
    "\n",
    "\n",
    "    def __pospq(self, p, q):\n",
    "        pm, pn = self.__size(p)\n",
    "        qm, qn = self.__size(q)\n",
    "        num = 0\n",
    "        pp, qq = [[]] * pm, [[]] * qm\n",
    "        for i in range(0, pm):\n",
    "            pp[i] = np.unique(p[i, :])\n",
    "        for j in range(0, qm):\n",
    "            qq[j] = np.unique(q[j, :])\n",
    "        b = []\n",
    "        for i in range(0, qm):\n",
    "            for j in range(0, pm):\n",
    "                if np.in1d(pp[j], qq[i]).all():\n",
    "                    num += 1\n",
    "                    b = np.hstack((b, pp[j]))\n",
    "        bb = np.unique(b)\n",
    "        if bb.size == 0:\n",
    "            dd = 1\n",
    "        else:\n",
    "            _, dd = self.__size(bb)\n",
    "        y = float(dd - 1)/pn if 0 in bb else float(dd)/pn\n",
    "        b = np.setdiff1d(bb, 0)\n",
    "        return y, b\n",
    "\n",
    "    '''\n",
    "    Extract core set from C to D\n",
    "    '''\n",
    "    def core(self, C, D):\n",
    "        x = np.hstack((C, D))\n",
    "        c = np.array(range(1, C.shape[1]+1))\n",
    "        d = np.array([C.shape[1]+1])\n",
    "        cp, cq = self.__size(c)\n",
    "        q = self.indisc(d, x)\n",
    "        pp = self.indisc(c, x)\n",
    "        b, w = self.__pospq(pp, q)\n",
    "        a, k, kk, p = ([[]] * cq for i in range(4))\n",
    "        y = []\n",
    "        for u in range(0, cq):\n",
    "            ind = u+1\n",
    "            a[u] = np.setdiff1d(c, ind)\n",
    "            p[u] = self.indisc(a[u], x)\n",
    "            k[u], kk[u] = self.__pospq(p[u], q)\n",
    "            if k[u] != b:\n",
    "                y = np.hstack((y, ind))\n",
    "        return np.array(y)\n",
    "\n",
    "    def __sgf(self, a, r, d, x):\n",
    "        pr = self.indisc(r, x)\n",
    "        q = self.indisc(d, x)\n",
    "        b = np.hstack((r, a))\n",
    "        pb = self.indisc(b, x)\n",
    "        p1, _ = self.__pospq(pb, q)\n",
    "        p2, _ = self.__pospq(pr, q)\n",
    "        return p1 - p2\n",
    "\n",
    "    '''\n",
    "    Return the set of irreducible attributes\n",
    "    '''\n",
    "    def reduce(self, C, D):\n",
    "\n",
    "        def redu2(i, re, c, d, x):\n",
    "            yre = re\n",
    "            re1, re2 = self.__size(re)\n",
    "            q = self.indisc(d, x)\n",
    "            p = self.indisc(c, x)\n",
    "            pos_cd, _ = self.__pospq(p, q)\n",
    "            y, j = None, None\n",
    "            for qi in range(i, re2):\n",
    "                re = np.setdiff1d(re, re[qi])\n",
    "                red = self.indisc(re, x)\n",
    "                pos_red, _ = self.__pospq(red, q)\n",
    "                if np.array_equal(pos_cd, pos_red):\n",
    "                    y = re\n",
    "                    j = i\n",
    "                    break\n",
    "                else:\n",
    "                    y = yre\n",
    "                    j = i + 1\n",
    "                    break\n",
    "            return y, j\n",
    "\n",
    "        x = np.hstack((C, D))\n",
    "        c = np.array(range(1, C.shape[1]+1))\n",
    "        d = np.array([C.shape[1]+1])\n",
    "        y = self.core(C, D)\n",
    "        q = self.indisc(d, x)\n",
    "        p = self.indisc(c, x)\n",
    "        pos_cd, _ = self.__pospq(p, q)\n",
    "        re = y\n",
    "        red = self.indisc(y, x)\n",
    "        pos_red, _ = self.__pospq(red, q)\n",
    "        while pos_cd != pos_red:\n",
    "            cc = np.setdiff1d(c, re)\n",
    "            c1, c2 = self.__size(cc)\n",
    "            yy = [0] * c2\n",
    "            for i in range(0, c2):\n",
    "                yy[i] = self.__sgf(cc[i], re, d, x)\n",
    "            cd = np.setdiff1d(c, y)\n",
    "            d1, d2 = self.__size(cd)\n",
    "            for i in range(d2, c2, -1):\n",
    "                yy[i] = []\n",
    "            ii = np.argsort(yy)\n",
    "            for v1 in range(c2-1, -1, -1):\n",
    "                v2 = ii[v1]\n",
    "                re = np.hstack((re, cc[v2]))\n",
    "                red = self.indisc(re, x)\n",
    "                pos_red, _ = self.__pospq(red, q)\n",
    "        re1, re2 = self.__size(re)\n",
    "        core = y\n",
    "        for qi in range(re2-1, -1, -1):\n",
    "            if re[qi] in core:\n",
    "                y = re\n",
    "                break\n",
    "            re = np.setdiff1d(re, re[qi])\n",
    "            red = self.indisc(re, x)\n",
    "            pos_red, _ = self.__pospq(red, q)\n",
    "            if np.array_equal(pos_cd, pos_red):\n",
    "                y = re\n",
    "        y1, y2 = self.__size(y)\n",
    "        j = 0\n",
    "        for i in range(0, y2):\n",
    "            y, j = redu2(j, y, c, d, x)\n",
    "        return y"
   ]
  },
  {
   "cell_type": "code",
   "execution_count": 26,
   "id": "8e7d9312",
   "metadata": {},
   "outputs": [],
   "source": [
    "table=np.array([[1,5,8],[2,7,10],[3,5,11],[1,7,11],[1,5,8],[4,6,9],[4,7,10],[2,7,10]],np.int16)\n",
    "# table=np.array([[1,5,8,10],[1,5,8,10],[1,5,8,10]],np.int16)\n",
    "y=np.array([[\"lead\"],[\"claim\"],[\"rebuttal\"],[\"conclusion\"],[\"lead\"],[\"counter\"],[\"counter\"],[\"lead\"]])"
   ]
  },
  {
   "cell_type": "code",
   "execution_count": 136,
   "id": "ad19f5e6",
   "metadata": {},
   "outputs": [
    {
     "name": "stdout",
     "output_type": "stream",
     "text": [
      "[[ 1  5  3  3  8  4  4]\n",
      " [ 2  7  3  3 10  6  6]\n",
      " [ 3  5  3  3 11 11 11]]\n",
      "7\n",
      "[[ 1  2  3]\n",
      " [ 5  7  5]\n",
      " [ 3  3  3]\n",
      " [ 3  3  3]\n",
      " [ 8 10 11]\n",
      " [ 4  6 11]\n",
      " [ 4  6 11]]\n",
      "\n",
      "[[0], [2, 3], [5, 6], [1], [4]]\n",
      "\n",
      "unique columns:  [0, 1, 2, 4, 5]\n",
      "unique_col_table: [[ 1  2  3]\n",
      " [ 5  7  5]\n",
      " [ 3  3  3]\n",
      " [ 8 10 11]\n",
      " [ 4  6 11]]\n",
      "New table:\n",
      "[[ 1  5  3  8  4]\n",
      " [ 2  7  3 10  6]\n",
      " [ 3  5  3 11 11]]\n",
      "repeated columns are:  [3, 6]\n"
     ]
    }
   ],
   "source": [
    "# table=np.array([[1,5,8,4],[2,7,10,6],[3,5,11,11],[1,7,11,5],[1,5,8,1],[4,6,9,6],[4,7,10,1],[2,7,10,4]],np.int16)\n",
    "# table_1=np.array([[1,8,4],[2,10,6],[3,11,11],[1,11,5],[1,8,1],[4,9,6],[4,10,1],[2,10,4]])\n",
    "\n",
    "\n",
    "table=np.array([[1,5,3,3,8,4,4],[2,7,3,3,10,6,6],[3,5,3,3,11,11,11]],np.int16)\n",
    "print(table)\n",
    "print(len(table[0]))\n",
    "table_1=np.array([[1,8,4],[2,10,6],[3,11,11]])\n",
    "grp=np.column_stack(table)\n",
    "print(grp)\n",
    "temp=pd.DataFrame(grp)\n",
    "# print(list(temp.columns))\n",
    "temp_grp=temp.groupby(list(temp.columns))\n",
    "ind_R=list(list())\n",
    "for key, item in temp_grp:\n",
    "#         print(grouped_df.get_group(key), \"\\n\",grouped_df.get_group(key).index ,\"\\n\\n\")\n",
    "    lis=[]\n",
    "    for i in temp_grp.get_group(key).index:\n",
    "        lis.append(i)\n",
    "    ind_R.append(list(lis))\n",
    "print()\n",
    "print(ind_R)\n",
    "\n",
    "unique_columns=[]\n",
    "for i in range(len(ind_R)):\n",
    "    unique_columns.append(ind_R[i][0])\n",
    "    \n",
    "unique_columns.sort()\n",
    "print()\n",
    "print(\"unique columns: \",unique_columns)\n",
    "\n",
    "unique_col_table=list(list())\n",
    "for i in unique_columns:\n",
    "    unique_col_table.append(list(grp[i]))\n",
    "unique_col_table=np.array(unique_col_table)\n",
    "print(\"unique_col_table:\",unique_col_table)\n",
    "\n",
    "new_table=np.column_stack(unique_col_table)\n",
    "print(\"New table:\")\n",
    "print(new_table)\n",
    "\n",
    "\n",
    "        \n",
    "repetitive_columns=list(set(list(range(len(table[0]))))-set(unique_columns))\n",
    "print(\"repeated columns are: \", repetitive_columns)\n",
    "\n"
   ]
  },
  {
   "cell_type": "code",
   "execution_count": null,
   "id": "588cf2ef",
   "metadata": {},
   "outputs": [],
   "source": []
  },
  {
   "cell_type": "code",
   "execution_count": null,
   "id": "498d4e94",
   "metadata": {},
   "outputs": [],
   "source": []
  },
  {
   "cell_type": "code",
   "execution_count": null,
   "id": "03287a08",
   "metadata": {},
   "outputs": [],
   "source": []
  },
  {
   "cell_type": "code",
   "execution_count": null,
   "id": "30689c27",
   "metadata": {},
   "outputs": [],
   "source": []
  },
  {
   "cell_type": "code",
   "execution_count": null,
   "id": "a112a59d",
   "metadata": {},
   "outputs": [],
   "source": []
  }
 ],
 "metadata": {
  "kernelspec": {
   "display_name": "Python 3 (ipykernel)",
   "language": "python",
   "name": "python3"
  },
  "language_info": {
   "codemirror_mode": {
    "name": "ipython",
    "version": 3
   },
   "file_extension": ".py",
   "mimetype": "text/x-python",
   "name": "python",
   "nbconvert_exporter": "python",
   "pygments_lexer": "ipython3",
   "version": "3.10.0"
  }
 },
 "nbformat": 4,
 "nbformat_minor": 5
}
